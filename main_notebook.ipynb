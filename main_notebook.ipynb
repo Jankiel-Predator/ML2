{
 "cells": [
  {
   "cell_type": "markdown",
   "metadata": {},
   "source": [
    "If we are supposed to analyze *zip_codes*, they have to be unique for the join to happen correctly, drop those duplicates, or rather group_by:\n",
    "- **order_customer_dataset_done** - **customer_id** OK, 14 994  zip codes UNIQUE out of 99441\n",
    "- **geolocation_dataset_done** - 13736 UNIQUE zip codes out of over 600 000\n",
    "- **sellers_dataset_done** - 2246 UNIQUE zip codes out of 3095\n",
    "\n",
    "Also, duplicated *order_id* in:\n",
    "- **order_items_dataset_done** - 12 141 duplicated primary keys (95092)\n",
    "- **order_reviews_dataset_done** - 494 duplicated primary keys (92919)\n",
    "- **order_payments_dataset_done** - 4303 duplicated primary keys (95905)\n",
    "\n",
    "**products_dataset_done** and **order_items_dataset_done** are ok"
   ]
  },
  {
   "cell_type": "code",
   "execution_count": null,
   "metadata": {},
   "outputs": [],
   "source": [
    "import matplotlib.pyplot as plt\n",
    "import pandas as pd\n",
    "\n",
    "from preprocessing.utils import join_dataframes"
   ]
  },
  {
   "cell_type": "code",
   "execution_count": 24,
   "metadata": {},
   "outputs": [],
   "source": [
    "# Revert matplotlib settings to default\n",
    "plt.rcParams.update(plt.rcParamsDefault)\n",
    "\n",
    "# sns.set_style(\"whitegrid\")\n",
    "\n",
    "# plt.rcParams.update({\n",
    "#     'text.usetex': True,          # Enable LaTeX rendering\n",
    "#     'font.family': 'serif',       # Use serif fonts for a classic look\n",
    "#     'font.serif': ['Georgia'],    # Specify a serif font (e.g., Georgia)\n",
    "#     'figure.dpi': 200,            # Set the default DPI for clear visuals\n",
    "#     'figure.facecolor': 'white',  # Set the figure background color\n",
    "#     \"axes.edgecolor\": \"grey\",     # Border color for axes\n",
    "#     \"axes.linewidth\": 0.2,        # Border width for axes\n",
    "#     'axes.grid': True,            # Enable grid on axes\n",
    "#     'grid.color': 'grey',         # Grid color\n",
    "#     'grid.linestyle': '--',       # Dashed grid line style\n",
    "#     'grid.linewidth': 0.25,       # Grid line width\n",
    "#     'grid.alpha': 0.3,            # Grid transparency\n",
    "#     \"axes.spines.top\": False,     # Remove top spine\n",
    "#     \"axes.spines.right\": False,   # Remove right spine\n",
    "#     \"legend.frameon\": True,       # Enable frame around legends\n",
    "#     \"legend.framealpha\": 0.5      # Legend frame transparency\n",
    "# })\n"
   ]
  },
  {
   "cell_type": "code",
   "execution_count": 25,
   "metadata": {},
   "outputs": [],
   "source": [
    "order_customer_dataset_done = pd.read_csv('./data/processed/order_customer_dataset_done.csv', index_col=0)\n",
    "geolocation_dataset_done = pd.read_csv('./data/processed/geolocation_dataset_done.csv', index_col=0)\n",
    "order_items_dataset_done = pd.read_csv('./data/processed/order_items_dataset_done.csv', index_col=0)\n",
    "order_payments_dataset_done = pd.read_csv('./data/processed/order_payments_dataset_done.csv', index_col=0)\n",
    "order_reviews_dataset_done = pd.read_csv('./data/processed/order_reviews_dataset_done.csv', index_col=0)\n",
    "orders_dataset_done = pd.read_csv('./data/processed/orders_dataset_done.csv', index_col=0)\n",
    "products_dataset_done = pd.read_csv('./data/processed/products_dataset_done.csv', index_col=0)\n",
    "sellers_dataset_done = pd.read_csv('./data/processed/sellers_dataset_done.csv', index_col=0)"
   ]
  },
  {
   "cell_type": "code",
   "execution_count": 35,
   "metadata": {},
   "outputs": [
    {
     "data": {
      "text/html": [
       "<div>\n",
       "<style scoped>\n",
       "    .dataframe tbody tr th:only-of-type {\n",
       "        vertical-align: middle;\n",
       "    }\n",
       "\n",
       "    .dataframe tbody tr th {\n",
       "        vertical-align: top;\n",
       "    }\n",
       "\n",
       "    .dataframe thead th {\n",
       "        text-align: right;\n",
       "    }\n",
       "</style>\n",
       "<table border=\"1\" class=\"dataframe\">\n",
       "  <thead>\n",
       "    <tr style=\"text-align: right;\">\n",
       "      <th></th>\n",
       "      <th>customer_id</th>\n",
       "      <th>customer_zip_code_prefix</th>\n",
       "      <th>customer_city</th>\n",
       "      <th>customer_state</th>\n",
       "    </tr>\n",
       "  </thead>\n",
       "  <tbody>\n",
       "    <tr>\n",
       "      <th>0</th>\n",
       "      <td>06b8999e2fba1a1fbc88172c00ba8bc7</td>\n",
       "      <td>14409</td>\n",
       "      <td>franca</td>\n",
       "      <td>SP</td>\n",
       "    </tr>\n",
       "    <tr>\n",
       "      <th>1</th>\n",
       "      <td>18955e83d337fd6b2def6b18a428ac77</td>\n",
       "      <td>9790</td>\n",
       "      <td>sao bernardo do campo</td>\n",
       "      <td>SP</td>\n",
       "    </tr>\n",
       "    <tr>\n",
       "      <th>2</th>\n",
       "      <td>4e7b3e00288586ebd08712fdd0374a03</td>\n",
       "      <td>1151</td>\n",
       "      <td>sao paulo</td>\n",
       "      <td>SP</td>\n",
       "    </tr>\n",
       "    <tr>\n",
       "      <th>3</th>\n",
       "      <td>b2b6027bc5c5109e529d4dc6358b12c3</td>\n",
       "      <td>8775</td>\n",
       "      <td>mogi das cruzes</td>\n",
       "      <td>SP</td>\n",
       "    </tr>\n",
       "    <tr>\n",
       "      <th>4</th>\n",
       "      <td>4f2d8ab171c80ec8364f7c12e35b23ad</td>\n",
       "      <td>13056</td>\n",
       "      <td>campinas</td>\n",
       "      <td>SP</td>\n",
       "    </tr>\n",
       "    <tr>\n",
       "      <th>...</th>\n",
       "      <td>...</td>\n",
       "      <td>...</td>\n",
       "      <td>...</td>\n",
       "      <td>...</td>\n",
       "    </tr>\n",
       "    <tr>\n",
       "      <th>99436</th>\n",
       "      <td>17ddf5dd5d51696bb3d7c6291687be6f</td>\n",
       "      <td>3937</td>\n",
       "      <td>sao paulo</td>\n",
       "      <td>SP</td>\n",
       "    </tr>\n",
       "    <tr>\n",
       "      <th>99437</th>\n",
       "      <td>e7b71a9017aa05c9a7fd292d714858e8</td>\n",
       "      <td>6764</td>\n",
       "      <td>taboao da serra</td>\n",
       "      <td>SP</td>\n",
       "    </tr>\n",
       "    <tr>\n",
       "      <th>99438</th>\n",
       "      <td>5e28dfe12db7fb50a4b2f691faecea5e</td>\n",
       "      <td>60115</td>\n",
       "      <td>fortaleza</td>\n",
       "      <td>CE</td>\n",
       "    </tr>\n",
       "    <tr>\n",
       "      <th>99439</th>\n",
       "      <td>56b18e2166679b8a959d72dd06da27f9</td>\n",
       "      <td>92120</td>\n",
       "      <td>canoas</td>\n",
       "      <td>RS</td>\n",
       "    </tr>\n",
       "    <tr>\n",
       "      <th>99440</th>\n",
       "      <td>274fa6071e5e17fe303b9748641082c8</td>\n",
       "      <td>6703</td>\n",
       "      <td>cotia</td>\n",
       "      <td>SP</td>\n",
       "    </tr>\n",
       "  </tbody>\n",
       "</table>\n",
       "<p>99441 rows × 4 columns</p>\n",
       "</div>"
      ],
      "text/plain": [
       "                            customer_id  customer_zip_code_prefix  \\\n",
       "0      06b8999e2fba1a1fbc88172c00ba8bc7                     14409   \n",
       "1      18955e83d337fd6b2def6b18a428ac77                      9790   \n",
       "2      4e7b3e00288586ebd08712fdd0374a03                      1151   \n",
       "3      b2b6027bc5c5109e529d4dc6358b12c3                      8775   \n",
       "4      4f2d8ab171c80ec8364f7c12e35b23ad                     13056   \n",
       "...                                 ...                       ...   \n",
       "99436  17ddf5dd5d51696bb3d7c6291687be6f                      3937   \n",
       "99437  e7b71a9017aa05c9a7fd292d714858e8                      6764   \n",
       "99438  5e28dfe12db7fb50a4b2f691faecea5e                     60115   \n",
       "99439  56b18e2166679b8a959d72dd06da27f9                     92120   \n",
       "99440  274fa6071e5e17fe303b9748641082c8                      6703   \n",
       "\n",
       "               customer_city customer_state  \n",
       "0                     franca             SP  \n",
       "1      sao bernardo do campo             SP  \n",
       "2                  sao paulo             SP  \n",
       "3            mogi das cruzes             SP  \n",
       "4                   campinas             SP  \n",
       "...                      ...            ...  \n",
       "99436              sao paulo             SP  \n",
       "99437        taboao da serra             SP  \n",
       "99438              fortaleza             CE  \n",
       "99439                 canoas             RS  \n",
       "99440                  cotia             SP  \n",
       "\n",
       "[99441 rows x 4 columns]"
      ]
     },
     "execution_count": 35,
     "metadata": {},
     "output_type": "execute_result"
    }
   ],
   "source": [
    "order_customer_dataset_done"
   ]
  },
  {
   "cell_type": "code",
   "execution_count": null,
   "metadata": {},
   "outputs": [
    {
     "name": "stderr",
     "output_type": "stream",
     "text": [
      "C:\\Users\\jk200\\AppData\\Local\\Temp\\ipykernel_14580\\78190652.py:47: DeprecationWarning: DataFrameGroupBy.apply operated on the grouping columns. This behavior is deprecated, and in a future version of pandas the grouping columns will be excluded from the operation. Either pass `include_groups=False` to exclude the groupings or explicitly select the grouping columns after groupby to silence this warning.\n",
      "  merged_df = temp_df.groupby(common_keys).apply(aggregate).reset_index()\n"
     ]
    },
    {
     "data": {
      "text/html": [
       "<div>\n",
       "<style scoped>\n",
       "    .dataframe tbody tr th:only-of-type {\n",
       "        vertical-align: middle;\n",
       "    }\n",
       "\n",
       "    .dataframe tbody tr th {\n",
       "        vertical-align: top;\n",
       "    }\n",
       "\n",
       "    .dataframe thead th {\n",
       "        text-align: right;\n",
       "    }\n",
       "</style>\n",
       "<table border=\"1\" class=\"dataframe\">\n",
       "  <thead>\n",
       "    <tr style=\"text-align: right;\">\n",
       "      <th></th>\n",
       "      <th>order_id</th>\n",
       "      <th>customer_id_0</th>\n",
       "      <th>order_purchase_timestamp_0</th>\n",
       "      <th>order_approved_at_0</th>\n",
       "      <th>order_delivered_carrier_date_0</th>\n",
       "      <th>order_delivered_customer_date_0</th>\n",
       "      <th>order_estimated_delivery_date_0</th>\n",
       "      <th>order_purchase_delivered_days_0</th>\n",
       "      <th>order_estimated_actual_delivered_days_0</th>\n",
       "      <th>order_item_id_1</th>\n",
       "      <th>product_id_1</th>\n",
       "      <th>seller_id_1</th>\n",
       "      <th>shipping_limit_date_1</th>\n",
       "      <th>price_1</th>\n",
       "      <th>freight_value_1</th>\n",
       "    </tr>\n",
       "  </thead>\n",
       "  <tbody>\n",
       "    <tr>\n",
       "      <th>0</th>\n",
       "      <td>00010242fe8c5a6d1ba2dd792cb16214</td>\n",
       "      <td>3ce436f183e68e07877b285a838db11a</td>\n",
       "      <td>2017-09-13 08:59:02</td>\n",
       "      <td>2017-09-13 09:45:35</td>\n",
       "      <td>2017-09-19 18:34:16</td>\n",
       "      <td>2017-09-20 23:43:48</td>\n",
       "      <td>2017-09-29</td>\n",
       "      <td>7.614421</td>\n",
       "      <td>-8.011250</td>\n",
       "      <td>1.0</td>\n",
       "      <td>4244733e06e7ecb4970a6e2683c13e61</td>\n",
       "      <td>48436dade18ac8b2bce089ec2a041202</td>\n",
       "      <td>2017-09-19 09:45:35</td>\n",
       "      <td>58.90</td>\n",
       "      <td>13.29</td>\n",
       "    </tr>\n",
       "    <tr>\n",
       "      <th>1</th>\n",
       "      <td>00018f77f2f0320c557190d7a144bdd3</td>\n",
       "      <td>f6dd3ec061db4e3987629fe6b26e5cce</td>\n",
       "      <td>2017-04-26 10:53:06</td>\n",
       "      <td>2017-04-26 11:05:13</td>\n",
       "      <td>2017-05-04 14:35:00</td>\n",
       "      <td>2017-05-12 16:04:24</td>\n",
       "      <td>2017-05-15</td>\n",
       "      <td>16.216181</td>\n",
       "      <td>-2.330278</td>\n",
       "      <td>1.0</td>\n",
       "      <td>e5f2d52b802189ee658865ca93d83a8f</td>\n",
       "      <td>dd7ddc04e1b6c2c614352b383efe2d36</td>\n",
       "      <td>2017-05-03 11:05:13</td>\n",
       "      <td>239.90</td>\n",
       "      <td>19.93</td>\n",
       "    </tr>\n",
       "    <tr>\n",
       "      <th>2</th>\n",
       "      <td>000229ec398224ef6ca0657da4fc703e</td>\n",
       "      <td>6489ae5e4333f3693df5ad4372dab6d3</td>\n",
       "      <td>2018-01-14 14:33:31</td>\n",
       "      <td>2018-01-14 14:48:30</td>\n",
       "      <td>2018-01-16 12:36:48</td>\n",
       "      <td>2018-01-22 13:19:16</td>\n",
       "      <td>2018-02-05</td>\n",
       "      <td>7.948437</td>\n",
       "      <td>-13.444954</td>\n",
       "      <td>1.0</td>\n",
       "      <td>c777355d18b72b67abbeef9df44fd0fd</td>\n",
       "      <td>5b51032eddd242adc84c38acab88f23d</td>\n",
       "      <td>2018-01-18 14:48:30</td>\n",
       "      <td>199.00</td>\n",
       "      <td>17.87</td>\n",
       "    </tr>\n",
       "    <tr>\n",
       "      <th>3</th>\n",
       "      <td>00024acbcdf0a6daa1e931b038114c75</td>\n",
       "      <td>d4eb9395c8c0431ee92fce09860c5a06</td>\n",
       "      <td>2018-08-08 10:00:35</td>\n",
       "      <td>2018-08-08 10:10:18</td>\n",
       "      <td>2018-08-10 13:28:00</td>\n",
       "      <td>2018-08-14 13:32:39</td>\n",
       "      <td>2018-08-20</td>\n",
       "      <td>6.147269</td>\n",
       "      <td>-5.435660</td>\n",
       "      <td>1.0</td>\n",
       "      <td>7634da152a4610f1595efa32f14722fc</td>\n",
       "      <td>9d7a1d34a5052409006425275ba1c2b4</td>\n",
       "      <td>2018-08-15 10:10:18</td>\n",
       "      <td>12.99</td>\n",
       "      <td>12.79</td>\n",
       "    </tr>\n",
       "    <tr>\n",
       "      <th>4</th>\n",
       "      <td>00042b26cf59d7ce69dfabb4e55b4fd9</td>\n",
       "      <td>58dbd0b2d70206bf40e62cd34e84d795</td>\n",
       "      <td>2017-02-04 13:57:51</td>\n",
       "      <td>2017-02-04 14:10:13</td>\n",
       "      <td>2017-02-16 09:46:09</td>\n",
       "      <td>2017-03-01 16:42:31</td>\n",
       "      <td>2017-03-17</td>\n",
       "      <td>25.114352</td>\n",
       "      <td>-15.303808</td>\n",
       "      <td>1.0</td>\n",
       "      <td>ac6c3623068f30de03045865e4e10089</td>\n",
       "      <td>df560393f3a51e74553ab94004ba5c87</td>\n",
       "      <td>2017-02-13 13:57:51</td>\n",
       "      <td>199.90</td>\n",
       "      <td>18.14</td>\n",
       "    </tr>\n",
       "    <tr>\n",
       "      <th>...</th>\n",
       "      <td>...</td>\n",
       "      <td>...</td>\n",
       "      <td>...</td>\n",
       "      <td>...</td>\n",
       "      <td>...</td>\n",
       "      <td>...</td>\n",
       "      <td>...</td>\n",
       "      <td>...</td>\n",
       "      <td>...</td>\n",
       "      <td>...</td>\n",
       "      <td>...</td>\n",
       "      <td>...</td>\n",
       "      <td>...</td>\n",
       "      <td>...</td>\n",
       "      <td>...</td>\n",
       "    </tr>\n",
       "    <tr>\n",
       "      <th>96299</th>\n",
       "      <td>fffb2ef8874127f75b52b643880fd7e0</td>\n",
       "      <td>ca8374c00203cec663bc1eabf0aaede4</td>\n",
       "      <td>2018-03-30 15:36:49</td>\n",
       "      <td>2018-04-03 05:08:33</td>\n",
       "      <td>2018-04-03 15:12:19</td>\n",
       "      <td>2018-04-16 16:56:38</td>\n",
       "      <td>2018-04-27</td>\n",
       "      <td>17.055428</td>\n",
       "      <td>-10.294005</td>\n",
       "      <td>1.0</td>\n",
       "      <td>ebceb9726cf5c6187b48e17fe58747b0</td>\n",
       "      <td>609e1a9a6c2539919b8205cf7c4e6ff0</td>\n",
       "      <td>2018-04-09 05:08:33</td>\n",
       "      <td>17.90</td>\n",
       "      <td>22.06</td>\n",
       "    </tr>\n",
       "    <tr>\n",
       "      <th>96301</th>\n",
       "      <td>fffbee3b5462987e66fb49b1c5411df2</td>\n",
       "      <td>11a0e041ea6e7e21856d2689b64e7f3a</td>\n",
       "      <td>2018-06-19 09:27:48</td>\n",
       "      <td>2018-06-19 09:58:03</td>\n",
       "      <td>2018-06-29 13:46:00</td>\n",
       "      <td>2018-07-05 17:51:08</td>\n",
       "      <td>2018-07-23</td>\n",
       "      <td>16.349537</td>\n",
       "      <td>-17.256157</td>\n",
       "      <td>1.0</td>\n",
       "      <td>6f0169f259bb0ff432bfff7d829b9946</td>\n",
       "      <td>213b25e6f54661939f11710a6fddb871</td>\n",
       "      <td>2018-06-28 09:58:03</td>\n",
       "      <td>119.85</td>\n",
       "      <td>20.03</td>\n",
       "    </tr>\n",
       "    <tr>\n",
       "      <th>96304</th>\n",
       "      <td>fffce4705a9662cd70adb13d4a31832d</td>\n",
       "      <td>29309aa813182aaddc9b259e31b870e6</td>\n",
       "      <td>2017-10-23 17:07:56</td>\n",
       "      <td>2017-10-24 17:14:25</td>\n",
       "      <td>2017-10-26 15:13:14</td>\n",
       "      <td>2017-10-28 12:22:22</td>\n",
       "      <td>2017-11-10</td>\n",
       "      <td>4.801690</td>\n",
       "      <td>-12.484468</td>\n",
       "      <td>1.0</td>\n",
       "      <td>72a30483855e2eafc67aee5dc2560482</td>\n",
       "      <td>c3cfdc648177fdbbbb35635a37472c53</td>\n",
       "      <td>2017-10-30 17:14:25</td>\n",
       "      <td>99.90</td>\n",
       "      <td>16.95</td>\n",
       "    </tr>\n",
       "    <tr>\n",
       "      <th>96305</th>\n",
       "      <td>fffe18544ffabc95dfada21779c9644f</td>\n",
       "      <td>b5e6afd5a41800fdf401e0272ca74655</td>\n",
       "      <td>2017-08-14 23:02:59</td>\n",
       "      <td>2017-08-15 00:04:32</td>\n",
       "      <td>2017-08-15 19:02:53</td>\n",
       "      <td>2017-08-16 21:59:40</td>\n",
       "      <td>2017-08-25</td>\n",
       "      <td>1.956030</td>\n",
       "      <td>-8.083565</td>\n",
       "      <td>1.0</td>\n",
       "      <td>9c422a519119dcad7575db5af1ba540e</td>\n",
       "      <td>2b3e4a2a3ea8e01938cabda2a3e5cc79</td>\n",
       "      <td>2017-08-21 00:04:32</td>\n",
       "      <td>55.99</td>\n",
       "      <td>8.72</td>\n",
       "    </tr>\n",
       "    <tr>\n",
       "      <th>96306</th>\n",
       "      <td>fffe41c64501cc87c801fd61db3f6244</td>\n",
       "      <td>96d649da0cc4ff33bb408b199d4c7dcf</td>\n",
       "      <td>2018-06-09 17:00:18</td>\n",
       "      <td>2018-06-09 17:10:13</td>\n",
       "      <td>2018-06-11 14:11:00</td>\n",
       "      <td>2018-06-14 17:56:26</td>\n",
       "      <td>2018-06-28</td>\n",
       "      <td>5.038981</td>\n",
       "      <td>-13.252477</td>\n",
       "      <td>1.0</td>\n",
       "      <td>350688d9dc1e75ff97be326363655e01</td>\n",
       "      <td>f7ccf836d21b2fb1de37564105216cc1</td>\n",
       "      <td>2018-06-12 17:10:13</td>\n",
       "      <td>43.00</td>\n",
       "      <td>12.79</td>\n",
       "    </tr>\n",
       "  </tbody>\n",
       "</table>\n",
       "<p>75914 rows × 15 columns</p>\n",
       "</div>"
      ],
      "text/plain": [
       "                               order_id                     customer_id_0  \\\n",
       "0      00010242fe8c5a6d1ba2dd792cb16214  3ce436f183e68e07877b285a838db11a   \n",
       "1      00018f77f2f0320c557190d7a144bdd3  f6dd3ec061db4e3987629fe6b26e5cce   \n",
       "2      000229ec398224ef6ca0657da4fc703e  6489ae5e4333f3693df5ad4372dab6d3   \n",
       "3      00024acbcdf0a6daa1e931b038114c75  d4eb9395c8c0431ee92fce09860c5a06   \n",
       "4      00042b26cf59d7ce69dfabb4e55b4fd9  58dbd0b2d70206bf40e62cd34e84d795   \n",
       "...                                 ...                               ...   \n",
       "96299  fffb2ef8874127f75b52b643880fd7e0  ca8374c00203cec663bc1eabf0aaede4   \n",
       "96301  fffbee3b5462987e66fb49b1c5411df2  11a0e041ea6e7e21856d2689b64e7f3a   \n",
       "96304  fffce4705a9662cd70adb13d4a31832d  29309aa813182aaddc9b259e31b870e6   \n",
       "96305  fffe18544ffabc95dfada21779c9644f  b5e6afd5a41800fdf401e0272ca74655   \n",
       "96306  fffe41c64501cc87c801fd61db3f6244  96d649da0cc4ff33bb408b199d4c7dcf   \n",
       "\n",
       "      order_purchase_timestamp_0  order_approved_at_0  \\\n",
       "0            2017-09-13 08:59:02  2017-09-13 09:45:35   \n",
       "1            2017-04-26 10:53:06  2017-04-26 11:05:13   \n",
       "2            2018-01-14 14:33:31  2018-01-14 14:48:30   \n",
       "3            2018-08-08 10:00:35  2018-08-08 10:10:18   \n",
       "4            2017-02-04 13:57:51  2017-02-04 14:10:13   \n",
       "...                          ...                  ...   \n",
       "96299        2018-03-30 15:36:49  2018-04-03 05:08:33   \n",
       "96301        2018-06-19 09:27:48  2018-06-19 09:58:03   \n",
       "96304        2017-10-23 17:07:56  2017-10-24 17:14:25   \n",
       "96305        2017-08-14 23:02:59  2017-08-15 00:04:32   \n",
       "96306        2018-06-09 17:00:18  2018-06-09 17:10:13   \n",
       "\n",
       "      order_delivered_carrier_date_0 order_delivered_customer_date_0  \\\n",
       "0                2017-09-19 18:34:16             2017-09-20 23:43:48   \n",
       "1                2017-05-04 14:35:00             2017-05-12 16:04:24   \n",
       "2                2018-01-16 12:36:48             2018-01-22 13:19:16   \n",
       "3                2018-08-10 13:28:00             2018-08-14 13:32:39   \n",
       "4                2017-02-16 09:46:09             2017-03-01 16:42:31   \n",
       "...                              ...                             ...   \n",
       "96299            2018-04-03 15:12:19             2018-04-16 16:56:38   \n",
       "96301            2018-06-29 13:46:00             2018-07-05 17:51:08   \n",
       "96304            2017-10-26 15:13:14             2017-10-28 12:22:22   \n",
       "96305            2017-08-15 19:02:53             2017-08-16 21:59:40   \n",
       "96306            2018-06-11 14:11:00             2018-06-14 17:56:26   \n",
       "\n",
       "      order_estimated_delivery_date_0  order_purchase_delivered_days_0  \\\n",
       "0                          2017-09-29                         7.614421   \n",
       "1                          2017-05-15                        16.216181   \n",
       "2                          2018-02-05                         7.948437   \n",
       "3                          2018-08-20                         6.147269   \n",
       "4                          2017-03-17                        25.114352   \n",
       "...                               ...                              ...   \n",
       "96299                      2018-04-27                        17.055428   \n",
       "96301                      2018-07-23                        16.349537   \n",
       "96304                      2017-11-10                         4.801690   \n",
       "96305                      2017-08-25                         1.956030   \n",
       "96306                      2018-06-28                         5.038981   \n",
       "\n",
       "       order_estimated_actual_delivered_days_0  order_item_id_1  \\\n",
       "0                                    -8.011250              1.0   \n",
       "1                                    -2.330278              1.0   \n",
       "2                                   -13.444954              1.0   \n",
       "3                                    -5.435660              1.0   \n",
       "4                                   -15.303808              1.0   \n",
       "...                                        ...              ...   \n",
       "96299                               -10.294005              1.0   \n",
       "96301                               -17.256157              1.0   \n",
       "96304                               -12.484468              1.0   \n",
       "96305                                -8.083565              1.0   \n",
       "96306                               -13.252477              1.0   \n",
       "\n",
       "                           product_id_1                       seller_id_1  \\\n",
       "0      4244733e06e7ecb4970a6e2683c13e61  48436dade18ac8b2bce089ec2a041202   \n",
       "1      e5f2d52b802189ee658865ca93d83a8f  dd7ddc04e1b6c2c614352b383efe2d36   \n",
       "2      c777355d18b72b67abbeef9df44fd0fd  5b51032eddd242adc84c38acab88f23d   \n",
       "3      7634da152a4610f1595efa32f14722fc  9d7a1d34a5052409006425275ba1c2b4   \n",
       "4      ac6c3623068f30de03045865e4e10089  df560393f3a51e74553ab94004ba5c87   \n",
       "...                                 ...                               ...   \n",
       "96299  ebceb9726cf5c6187b48e17fe58747b0  609e1a9a6c2539919b8205cf7c4e6ff0   \n",
       "96301  6f0169f259bb0ff432bfff7d829b9946  213b25e6f54661939f11710a6fddb871   \n",
       "96304  72a30483855e2eafc67aee5dc2560482  c3cfdc648177fdbbbb35635a37472c53   \n",
       "96305  9c422a519119dcad7575db5af1ba540e  2b3e4a2a3ea8e01938cabda2a3e5cc79   \n",
       "96306  350688d9dc1e75ff97be326363655e01  f7ccf836d21b2fb1de37564105216cc1   \n",
       "\n",
       "      shipping_limit_date_1  price_1  freight_value_1  \n",
       "0       2017-09-19 09:45:35    58.90            13.29  \n",
       "1       2017-05-03 11:05:13   239.90            19.93  \n",
       "2       2018-01-18 14:48:30   199.00            17.87  \n",
       "3       2018-08-15 10:10:18    12.99            12.79  \n",
       "4       2017-02-13 13:57:51   199.90            18.14  \n",
       "...                     ...      ...              ...  \n",
       "96299   2018-04-09 05:08:33    17.90            22.06  \n",
       "96301   2018-06-28 09:58:03   119.85            20.03  \n",
       "96304   2017-10-30 17:14:25    99.90            16.95  \n",
       "96305   2017-08-21 00:04:32    55.99             8.72  \n",
       "96306   2018-06-12 17:10:13    43.00            12.79  \n",
       "\n",
       "[75914 rows x 15 columns]"
      ]
     },
     "execution_count": 45,
     "metadata": {},
     "output_type": "execute_result"
    }
   ],
   "source": [
    "aha = join_dataframes(\n",
    "\t[orders_dataset_done, order_items_dataset_done], \n",
    "\t[{'order_id': 'order_id'}, {'order_id': 'order_id'}]\n",
    ")\n",
    "aha"
   ]
  },
  {
   "cell_type": "code",
   "execution_count": 46,
   "metadata": {},
   "outputs": [
    {
     "data": {
      "text/plain": [
       "order_id                                   0\n",
       "customer_id_0                              0\n",
       "order_purchase_timestamp_0                 0\n",
       "order_approved_at_0                        0\n",
       "order_delivered_carrier_date_0             0\n",
       "order_delivered_customer_date_0            0\n",
       "order_estimated_delivery_date_0            0\n",
       "order_purchase_delivered_days_0            0\n",
       "order_estimated_actual_delivered_days_0    0\n",
       "order_item_id_1                            0\n",
       "product_id_1                               0\n",
       "seller_id_1                                0\n",
       "shipping_limit_date_1                      0\n",
       "price_1                                    0\n",
       "freight_value_1                            0\n",
       "dtype: int64"
      ]
     },
     "execution_count": 46,
     "metadata": {},
     "output_type": "execute_result"
    }
   ],
   "source": [
    "aha.isna().sum()"
   ]
  },
  {
   "cell_type": "code",
   "execution_count": 26,
   "metadata": {},
   "outputs": [
    {
     "data": {
      "text/plain": [
       "True"
      ]
     },
     "execution_count": 26,
     "metadata": {},
     "output_type": "execute_result"
    }
   ],
   "source": [
    "orders_dataset_done[\"customer_id\"].nunique() == orders_dataset_done.shape[0]"
   ]
  },
  {
   "cell_type": "code",
   "execution_count": 27,
   "metadata": {},
   "outputs": [
    {
     "data": {
      "text/plain": [
       "89270"
      ]
     },
     "execution_count": 27,
     "metadata": {},
     "output_type": "execute_result"
    }
   ],
   "source": [
    "orders_dataset_done[\"customer_id\"].nunique()"
   ]
  },
  {
   "cell_type": "code",
   "execution_count": 28,
   "metadata": {},
   "outputs": [
    {
     "data": {
      "text/plain": [
       "89270"
      ]
     },
     "execution_count": 28,
     "metadata": {},
     "output_type": "execute_result"
    }
   ],
   "source": [
    "orders_dataset_done.shape[0]"
   ]
  },
  {
   "cell_type": "code",
   "execution_count": 29,
   "metadata": {},
   "outputs": [
    {
     "data": {
      "text/plain": [
       "12141"
      ]
     },
     "execution_count": 29,
     "metadata": {},
     "output_type": "execute_result"
    }
   ],
   "source": [
    "order_items_dataset_done.shape[0] - order_items_dataset_done[\"order_id\"].nunique()"
   ]
  },
  {
   "cell_type": "code",
   "execution_count": 30,
   "metadata": {},
   "outputs": [
    {
     "data": {
      "text/plain": [
       "False"
      ]
     },
     "execution_count": 30,
     "metadata": {},
     "output_type": "execute_result"
    }
   ],
   "source": [
    "order_items_dataset_done[\"product_id\"].nunique() == order_items_dataset_done.shape[0]"
   ]
  },
  {
   "cell_type": "code",
   "execution_count": 31,
   "metadata": {},
   "outputs": [
    {
     "data": {
      "text/plain": [
       "13736"
      ]
     },
     "execution_count": 31,
     "metadata": {},
     "output_type": "execute_result"
    }
   ],
   "source": [
    "geolocation_dataset_done[\"geolocation_zip_code_prefix\"].nunique()"
   ]
  },
  {
   "cell_type": "code",
   "execution_count": 32,
   "metadata": {},
   "outputs": [
    {
     "data": {
      "text/plain": [
       "2246"
      ]
     },
     "execution_count": 32,
     "metadata": {},
     "output_type": "execute_result"
    }
   ],
   "source": [
    "sellers_dataset_done[\"seller_zip_code_prefix\"].nunique()"
   ]
  },
  {
   "cell_type": "code",
   "execution_count": 33,
   "metadata": {},
   "outputs": [
    {
     "data": {
      "text/plain": [
       "24136"
      ]
     },
     "execution_count": 33,
     "metadata": {},
     "output_type": "execute_result"
    }
   ],
   "source": [
    "products_dataset_done[\"product_id\"].nunique()"
   ]
  }
 ],
 "metadata": {
  "kernelspec": {
   "display_name": "Python 3",
   "language": "python",
   "name": "python3"
  },
  "language_info": {
   "codemirror_mode": {
    "name": "ipython",
    "version": 3
   },
   "file_extension": ".py",
   "mimetype": "text/x-python",
   "name": "python",
   "nbconvert_exporter": "python",
   "pygments_lexer": "ipython3",
   "version": "3.10.11"
  }
 },
 "nbformat": 4,
 "nbformat_minor": 2
}
